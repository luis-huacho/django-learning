{
 "cells": [
  {
   "cell_type": "markdown",
   "id": "786f5e3f",
   "metadata": {},
   "source": [
    "# Configuración básica\n",
    "\n",
    "En esta lección vamos a aprender sobra la configuración que se realiza en los ficheros del directorio.\n",
    "\n",
    "Primeros los ficheros en que se encuentran en el directorio del proyecto `tutorial/`:\n",
    "\n",
    "* `__init__.py`: Sirve para inicializar un paquete en un directorio y ejecutar código durante su importarción.\n",
    "* `settings.py`: Es el fichero principal de la configuración, volveremos a él una vez vistos los demás ficheros.\n",
    "* `urls.py`: Aquí se mapean las rutas de las peticiones URL del navegador y las respuestas que se devolverán desde Django.\n",
    "* `wsgi.py`: Este fichero es la interfaz de puerta de enlace del servidor web, se utiliza para desplegar el proyecto en producción.\n",
    "* `asgi.py`: Es otra interfaz de puerta de enlace de servidor pero con soporte asíncrono. Al permitir múltiples ejecuciones en paralelo es ideal para aplicaciones que hacen uso de *Machine Learning*, *Deep Learning* y *Artificial Intelligence*.\n",
    "\n",
    "De vuelta al `tutorial/settings.py` repasemos las variables de configuración más importantes:\n",
    "\n",
    "* `BASE_DIR`: Esta variable genera la ruta al directorio del proyecto y se utiliza para generar rutas a otros ficheros.\n",
    "* `SECRET_KEY`: Es una variable única generada automáticamente que se utiliza para tareas criptográficas y generación de tokens.\n",
    "* `DEBUG`: Permite mostrar información de los errores como respuesta a las peticiones fallidas. Hay que desactivarlo en producción.\n",
    "* `ALLOWED_HOSTS`: Contiene las IP y dominios donde Django puede ejecutarse. El *localhost* o *127.0.0.1* se encuentra añadido de base.\n",
    "* `INSTALLED_APPS`: Contiene las apps activas en el proyecto, son paquetes con diferentes funcionalidades. Django trae varias activadas para controlar el panel de administrador, la autenticación o las sesiones. Si creamos una app tendremos que añadirla aquí.\n",
    "* `MIDDLEWARE`: Son funciones de código que se añaden durante el procesamiento de las peticiones y respuestas.\n",
    "* `ROOT_URLCONF`: Contiene la ubicación del fichero de rutas, `tutorial.urls` hace referencia al directorio `tutorial` y `urls.py`.\n",
    "* `TEMPLATES`: Contiene la configuración para buscar, cargar y procesar las plantillas del proyecto, como por ejemplo son los ficheros HTML.\n",
    "* `WSGI_APPLICATION`: Contiene la ruta a la variable `application` del fichero `wsgi.py` para usarla en fase de producción.\n",
    "* `DATABASES`: Define la configuración de la base de datos, que por defecto es un fichero *SQLite3* y no es necesario configurar nada. SQLite está bien para el desarrollo pero en producción es recomendable usar una base de datos centralizada como PostgreSQL, MySQL, MariaDB u Oracle. \n",
    "* `AUTH_PASSWORD_VALIDATORS`: Contiene diferentes funciones de validación para las contraseñas de los usuarios.\n",
    "* `LANGUAGE_CODE`: Una opción de internacionalización que sirve para configurar el idioma por defecto, aquí pondremos `es`.\n",
    "* `STATIC_URL`: Una variable para controlar la URL donde se irán a buscar los ficheros estáticos como CSS, JavaScript e imágenes.\n",
    "* `DEFAULT_AUTO_FIELD`: Finalmente, cuando se crea un registro en la base de datos se le asigna un identificador único generado automáticamente conocido como `primary key`. Esta variable permite configurar el tipo de ese identificador. "
   ]
  },
  {
   "cell_type": "code",
   "execution_count": null,
   "id": "017c41e2",
   "metadata": {},
   "outputs": [],
   "source": []
  }
 ],
 "metadata": {
  "kernelspec": {
   "display_name": "Python 3 (ipykernel)",
   "language": "python",
   "name": "python3"
  },
  "language_info": {
   "codemirror_mode": {
    "name": "ipython",
    "version": 3
   },
   "file_extension": ".py",
   "mimetype": "text/x-python",
   "name": "python",
   "nbconvert_exporter": "python",
   "pygments_lexer": "ipython3",
   "version": "3.10.5"
  }
 },
 "nbformat": 4,
 "nbformat_minor": 5
}
