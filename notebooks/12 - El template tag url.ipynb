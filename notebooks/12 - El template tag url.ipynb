{
 "cells": [
  {
   "cell_type": "markdown",
   "id": "e0af679d",
   "metadata": {},
   "source": [
    "# El template tag  {% url %}\n",
    "\n",
    "Cuando hacemos referencia a una de las rutas del programa estamos escribiendo el enlace en crudo, eso en Django es una mala práctica porque si modificamos la ruta en el fichero `urls.py` la página dejará de funcionar.\n",
    "\n",
    "El caso es que podemos manejar estas direcciones automáticamente dejando que Django busque la ruta, para ello necesitamos establecer un nombre en los `path` de `urls.py`:\n",
    "\n",
    "`tutorial/urls.py`\n",
    "\n",
    "```python\n",
    "urlpatterns = [\n",
    "    path('', home, name=\"home\"),          # editado\n",
    "    path('blog/<id>', post, name=\"post\"), # editado\n",
    "    path('admin/', admin.site.urls),\n",
    "]\n",
    "```\n",
    "\n",
    "Ahora en lugar de escribir la URL a mano utilizaremos el template tag `{% url %}` de esta forma:\n",
    "\n",
    "`blog/templates/blog/home.html`\n",
    "\n",
    "```html\n",
    "<a href=\"{% url 'home' %}\">Volver a la portada</a>\n",
    "```\n",
    "\n",
    "En el caso en que necesitemos enviar algún argumento, como el identificador de la entrada, lo podemos pasar como un parámetro nombrado:\n",
    "\n",
    "`blog/templates/blog/post.html`\n",
    "\n",
    "```html\n",
    "<a href=\"{% url 'post' id=post.id %}\">Leer más</a>\n",
    "```\n",
    "\n",
    "La magia viene ahora, si modificamos una ruta el sistema seguirá funcionando:\n",
    "\n",
    "`tutorial/urls.py`\n",
    "\n",
    "```python\n",
    "urlpatterns = [\n",
    "    path('', home, name=\"home\"),\n",
    "    path('entrada/<id>', post, name=\"post\"), # editado\n",
    "    path('admin/', admin.site.urls),\n",
    "]\n",
    "```"
   ]
  },
  {
   "cell_type": "code",
   "execution_count": null,
   "id": "00fc4388",
   "metadata": {},
   "outputs": [],
   "source": []
  }
 ],
 "metadata": {
  "kernelspec": {
   "display_name": "Python 3 (ipykernel)",
   "language": "python",
   "name": "python3"
  },
  "language_info": {
   "codemirror_mode": {
    "name": "ipython",
    "version": 3
   },
   "file_extension": ".py",
   "mimetype": "text/x-python",
   "name": "python",
   "nbconvert_exporter": "python",
   "pygments_lexer": "ipython3",
   "version": "3.10.5"
  }
 },
 "nbformat": 4,
 "nbformat_minor": 5
}
