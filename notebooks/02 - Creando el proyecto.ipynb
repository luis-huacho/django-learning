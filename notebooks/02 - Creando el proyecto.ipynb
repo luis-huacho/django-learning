{
 "cells": [
  {
   "cell_type": "markdown",
   "id": "4346e9fb",
   "metadata": {},
   "source": [
    "# Creando el proyecto\n",
    "\n",
    "Necesitamos crear un directorio para el proyecto, por ejemplo `cursodjango` en el escritorio.\n",
    "\n",
    "```bash\n",
    "$ cd Desktop\n",
    "$ mkdir tutorial-django\n",
    "```\n",
    "\n",
    "En ese directorio creamos un entorno virtual con `Pipenv` instalando en él directamente Django:\n",
    "\n",
    "```bash\n",
    "$ cd tutorial-django\n",
    "$ pipenv install django\n",
    "```\n",
    "\n",
    "Creamos el proyecto `tutorial` mediante el siguiente comando:\n",
    "\n",
    "```bash\n",
    "$ pipenv run django-admin startproject tutorial\n",
    "```\n",
    "\n",
    "Y probamos a ponerlo en marcha, siempre en el directorio donde se encuentra el fichero `manage.py` (podéis usarlo de referencia):\n",
    "\n",
    "```bash\n",
    "$ cd tutorial\n",
    "$ pipenv run python manage.py runserver\n",
    "```\n",
    "\n",
    "Ya podremos acceder a la url http://127.0.0.1:8000/ y ver el proyecto funcionando.\n",
    "\n",
    "Podemos crear un script en el `Pipfile` para simplificar la puesta en marcha:\n",
    "\n",
    "```toml\n",
    "[scripts]\n",
    "server = \"python manage.py runserver\"\n",
    "```\n",
    "\n",
    "Con esto fácilmente podremos iniciar el servidor con en la terminal estando en el directorio del `manage.py`:\n",
    "\n",
    "```bash\n",
    "$ pipenv run server\n",
    "```\n",
    "\n",
    "## Establecer entorno en VSC\n",
    "\n",
    "No olvidemos cambiar el intérprete del editor al del entorno virtual, podemos abrir cualquier fichero `.py` y en la parte inferior, seleccionar el intérprete y buscar el que hemos creado llamado **cursodjango-XXXXXXX**.\n",
    "\n",
    "Si guardamos el fichero pedirá instalar las dependencias de autoformateado así que le diremos que sí. Con esto la sintaxis se autocompletará correctamente en el proyecto.\n",
    "\n",
    "## Repositorio del proyecto\n",
    "\n",
    "El código fuente de todo lo que vamos a realizar se encuentra en [en este repositorio](https://github.com/hektorprofe/tutorial-django-blog), echadle un vistazo si lo necestáis."
   ]
  },
  {
   "cell_type": "code",
   "execution_count": null,
   "id": "a40c6798",
   "metadata": {},
   "outputs": [],
   "source": []
  }
 ],
 "metadata": {
  "kernelspec": {
   "display_name": "Python 3 (ipykernel)",
   "language": "python",
   "name": "python3"
  },
  "language_info": {
   "codemirror_mode": {
    "name": "ipython",
    "version": 3
   },
   "file_extension": ".py",
   "mimetype": "text/x-python",
   "name": "python",
   "nbconvert_exporter": "python",
   "pygments_lexer": "ipython3",
   "version": "3.10.5"
  }
 },
 "nbformat": 4,
 "nbformat_minor": 5
}
