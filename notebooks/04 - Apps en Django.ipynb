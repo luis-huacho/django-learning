{
 "cells": [
  {
   "cell_type": "markdown",
   "id": "f0b2a303",
   "metadata": {},
   "source": [
    "# Apps en Django\n",
    "\n",
    "Cada app de Django es un paquete independiente que contiene sus propias definiciones, templates y ficheros estáticos. \n",
    "\n",
    "Necesitamos crear una app para empezar a trabajar, como vamos a estar desarrollando un pequeño **blog** podemos crear una con ese nombre. Es importante que estemos situados en el directorio base `tutorial/`, justo donde se encuentra el fichero `manage.py`:\n",
    "\n",
    "```bash\n",
    "$ pipenv run python manage.py startapp blog\n",
    "```\n",
    "\n",
    "Se creará una carpeta con el nombre `blog` con un montón de nuevos ficheros, los iremos descubriendo poco a poco.\n",
    "\n",
    "Sólo nos falta activar la app en `tutorial/settings.py` para poder utilizarla:\n",
    "\n",
    "```python\n",
    "INSTALLED_APPS = [\n",
    "    'django.contrib.admin',\n",
    "    'django.contrib.auth',\n",
    "    'django.contrib.contenttypes',\n",
    "    'django.contrib.sessions',\n",
    "    'django.contrib.messages',\n",
    "    'django.contrib.staticfiles',\n",
    "    'blog' # nuevo\n",
    "]\n",
    "```"
   ]
  },
  {
   "cell_type": "code",
   "execution_count": null,
   "id": "7e2af5ef",
   "metadata": {},
   "outputs": [],
   "source": []
  }
 ],
 "metadata": {
  "kernelspec": {
   "display_name": "Python 3 (ipykernel)",
   "language": "python",
   "name": "python3"
  },
  "language_info": {
   "codemirror_mode": {
    "name": "ipython",
    "version": 3
   },
   "file_extension": ".py",
   "mimetype": "text/x-python",
   "name": "python",
   "nbconvert_exporter": "python",
   "pygments_lexer": "ipython3",
   "version": "3.10.5"
  }
 },
 "nbformat": 4,
 "nbformat_minor": 5
}
