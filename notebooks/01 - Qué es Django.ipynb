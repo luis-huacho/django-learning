{
 "cells": [
  {
   "cell_type": "markdown",
   "id": "c9d29be2",
   "metadata": {},
   "source": [
    "# Qué es Django\n",
    "\n",
    "* Django es un framework web creado en 2003, programado en Python, gratuito y libre. \n",
    "* Fue liberado en 2005 y desde 2008 cuenta con su propia fundación para hacerse cargo de su desarrollo.\n",
    "* Es utilizado por multitud de grandes empresas como Instagram, Disqus, Pinterest, Bitbucket, Udemy y la NASA\n",
    "* Promueve el desarrollo ágil y extensible basado en un sistema de componentes reutilizables llamados \"apps\".\n",
    "* Algunas de sus mejores características son su mapeador ORM para manejar la base de datos como conjuntos de objetos junto a un panel de administrador autogenerado, así como un potente sistema de plantillas extensibles.\n",
    "* Funciona sobre distintos tipos de base de datos SQL y es ideal para manejar autenticación de usuarios, sesiones, operaciones con ficheros, mensajería y plataformas de pago. \n",
    "* No es la mejor alternativa para manejar microservicios ni servicios que requieran ejecutar múltiples procesos, como aplicaciones de big data y plataformas con sockets en tiempo real.\n",
    "\n",
    "Web oficial: [https://www.djangoproject.com](https://www.djangoproject.com)"
   ]
  },
  {
   "cell_type": "code",
   "execution_count": null,
   "id": "33a38445",
   "metadata": {},
   "outputs": [],
   "source": []
  }
 ],
 "metadata": {
  "kernelspec": {
   "display_name": "Python 3 (ipykernel)",
   "language": "python",
   "name": "python3"
  },
  "language_info": {
   "codemirror_mode": {
    "name": "ipython",
    "version": 3
   },
   "file_extension": ".py",
   "mimetype": "text/x-python",
   "name": "python",
   "nbconvert_exporter": "python",
   "pygments_lexer": "ipython3",
   "version": "3.10.5"
  }
 },
 "nbformat": 4,
 "nbformat_minor": 5
}
